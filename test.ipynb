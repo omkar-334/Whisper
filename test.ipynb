{
 "cells": [
  {
   "cell_type": "code",
   "execution_count": 19,
   "metadata": {},
   "outputs": [],
   "source": [
    "import whisper\n",
    "from openai import OpenAI\n",
    "import requests\n",
    "import os\n",
    "apikey=os.environ('OPENAI_API_KEY')"
   ]
  },
  {
   "cell_type": "code",
   "execution_count": 2,
   "metadata": {},
   "outputs": [],
   "source": [
    "file=r'audio/instr.mp3'\n",
    "client = OpenAI(api_key=apikey)\n",
    "model = whisper.load_model(\"base\")"
   ]
  },
  {
   "cell_type": "code",
   "execution_count": 27,
   "metadata": {},
   "outputs": [
    {
     "name": "stdout",
     "output_type": "stream",
     "text": [
      "How to Use Proxy Mesh Rotating Servers with Python How to Scrape Available Proxies from the Internet Give a list of proxy libraries in Python\n",
      "\n"
     ]
    }
   ],
   "source": [
    "def apifun(file):\n",
    "    audio_file= open(file, \"rb\")\n",
    "    transcript = client.audio.transcriptions.create(\n",
    "    model=\"whisper-1\",\n",
    "    file=audio_file,\n",
    "    response_format=\"text\")\n",
    "    return transcript\n",
    "\n",
    "print(apifun(file))"
   ]
  },
  {
   "cell_type": "code",
   "execution_count": 28,
   "metadata": {},
   "outputs": [
    {
     "name": "stderr",
     "output_type": "stream",
     "text": [
      "c:\\Users\\omkar\\AppData\\Local\\Programs\\Python\\Python39\\lib\\site-packages\\whisper\\transcribe.py:115: UserWarning: FP16 is not supported on CPU; using FP32 instead\n",
      "  warnings.warn(\"FP16 is not supported on CPU; using FP32 instead\")\n"
     ]
    },
    {
     "name": "stdout",
     "output_type": "stream",
     "text": [
      " How to use Proximetro Tating servers with Python How to scrape available proxies from the internet Give a list of proxy libraries in Python\n"
     ]
    }
   ],
   "source": [
    "def whisperfun(file):\n",
    "    result = model.transcribe(file)\n",
    "    return result['text']\n",
    "\n",
    "print(whisperfun(file))"
   ]
  },
  {
   "cell_type": "code",
   "execution_count": 29,
   "metadata": {},
   "outputs": [],
   "source": [
    "# curl https://api.openai.com/v1/audio/transcriptions \\\n",
    "#   -H \"Authorization: Bearer $OPENAI_API_KEY\" \\\n",
    "#   -H \"Content-Type: multipart/form-data\" \\\n",
    "#   -F file=\"@/path/to/file/audio.mp3\" \\\n",
    "#   -F model=\"whisper-1\"\n",
    "def curlfun(file):\n",
    "    headers = {'Authorization': 'Bearer ' + apikey}\n",
    "    files = {\n",
    "        'file': open(file, 'rb'),\n",
    "        'model': (None, 'whisper-1')}\n",
    "    return requests.post('https://api.openai.com/v1/audio/transcriptions', headers=headers, files=files).text\n",
    "text=curlfun(file)"
   ]
  },
  {
   "cell_type": "code",
   "execution_count": 37,
   "metadata": {},
   "outputs": [],
   "source": [
    "headers = {\n",
    "    'Authorization': 'Bearer ' + apikey,\n",
    "    'Content-Type': 'application/json',\n",
    "}\n",
    "\n",
    "json_data = {\n",
    "    'model': 'tts-1-hd',\n",
    "    'input': text,\n",
    "    'voice': 'alloy',\n",
    "}\n",
    "\n",
    "response = requests.post('https://api.openai.com/v1/audio/speech', headers=headers, json=json_data)\n",
    "# Note: json_data will not be serialized by requests\n",
    "# exactly as it was in the original request.\n",
    "#data = '{\\n    \"model\": \"tts-1\",\\n    \"input\": \"The quick brown fox jumped over the lazy dog.\",\\n    \"voice\": \"alloy\"\\n  }'\n",
    "#response = requests.post('https://api.openai.com/v1/audio/speech', headers=headers, data=data)\n",
    "\n",
    "with open('speech.mp3', 'wb') as f:\n",
    "    f.write(response.content)"
   ]
  }
 ],
 "metadata": {
  "kernelspec": {
   "display_name": "Python 3",
   "language": "python",
   "name": "python3"
  },
  "language_info": {
   "codemirror_mode": {
    "name": "ipython",
    "version": 3
   },
   "file_extension": ".py",
   "mimetype": "text/x-python",
   "name": "python",
   "nbconvert_exporter": "python",
   "pygments_lexer": "ipython3",
   "version": "3.9.13"
  }
 },
 "nbformat": 4,
 "nbformat_minor": 2
}
